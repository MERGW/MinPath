{
 "cells": [
  {
   "cell_type": "code",
   "execution_count": 109,
   "metadata": {},
   "outputs": [],
   "source": [
    "#useful additional packages\n",
    "import matplotlib.pyplot as plt\n",
    "import matplotlib.axes as axes\n",
    "%matplotlib inline\n",
    "import numpy as np\n",
    "import networkx as nx\n",
    "\n",
    "from qiskit import BasicAer\n",
    "from qiskit.tools.visualization import plot_histogram\n",
    "from qiskit.optimization.applications.ising import max_cut,tsp\n",
    "from qiskit.aqua.algorithms import VQE, ExactEigensolver\n",
    "from qiskit.aqua.components.optimizers import SPSA\n",
    "from qiskit.aqua.components.variational_forms import RY\n",
    "from qiskit.aqua import QuantumInstance\n",
    "from qiskit.optimization.applications.ising.common import sample_most_likely\n",
    "\n",
    "#setup aqua logging\n",
    "import logging\n",
    "from qiskit.aqua import set_qiskit_aqua_logging\n",
    "#set qiskit_aqua_logging(logging.DEBUG) #choose INFO, DEBUG to see the log"
   ]
  },
  {
   "cell_type": "code",
   "execution_count": 110,
   "metadata": {},
   "outputs": [],
   "source": [
    "#Generating a graph of 3 nodes\n",
    "n=4\n",
    "num_qubits = n**2\n",
    "ins = tsp.random_tsp(n)"
   ]
  },
  {
   "cell_type": "code",
   "execution_count": 111,
   "metadata": {},
   "outputs": [],
   "source": [
    "G=nx.Graph()\n",
    "G.add_nodes_from(np.arange(0,n,1))"
   ]
  },
  {
   "cell_type": "code",
   "execution_count": 112,
   "metadata": {},
   "outputs": [],
   "source": [
    "colors = {'r' for node in G.nodes()}\n",
    "pos = {k: v for k, v in enumerate(ins.coord)}"
   ]
  },
  {
   "cell_type": "code",
   "execution_count": 113,
   "metadata": {},
   "outputs": [
    {
     "name": "stdout",
     "output_type": "stream",
     "text": [
      "distance\n",
      " [[ 0. 48. 50. 14.]\n",
      " [48.  0. 52. 49.]\n",
      " [50. 52.  0. 38.]\n",
      " [14. 49. 38.  0.]]\n"
     ]
    },
    {
     "data": {
      "image/png": "[encoded data removed]",
      "text/plain": [
       "<Figure size 432x288 with 1 Axes>"
      ]
     },
     "metadata": {},
     "output_type": "display_data"
    }
   ],
   "source": [
    "default_axes=plt.axes(frameon=True)\n",
    "nx.draw_networkx(G,node_color=colors,node_size=600,alpha=.8,ax=default_axes,pos = pos)\n",
    "print('distance\\n',ins.w)"
   ]
  },
  {
   "cell_type": "code",
   "execution_count": 114,
   "metadata": {},
   "outputs": [],
   "source": [
    "from itertools import permutations\n",
    "#'''\n",
    "def brute_force_tsp(w,N):\n",
    "    a = list(permutations(range(1,N)))\n",
    "    last_best_distance = 1e10\n",
    "    for  i in a:\n",
    "        distance = 0\n",
    "        pre_j=0\n",
    "        for j in i:\n",
    "            distance=distance+w[j,pre_j]\n",
    "            pre_j=j\n",
    "        distance=distance+w[pre_j,0]\n",
    "        order = (0,)+i\n",
    "        if distance < last_best_distance:\n",
    "            best_order = order\n",
    "            last_best_distance = distance\n",
    "            print('order='+str(order) + ' Distance = '+ str(distance))\n",
    "    return last_best_distance, best_order\n",
    "#'''"
   ]
  },
  {
   "cell_type": "code",
   "execution_count": 115,
   "metadata": {},
   "outputs": [
    {
     "name": "stdout",
     "output_type": "stream",
     "text": [
      "order=(0, 1, 2, 3) Distance = 152.0\n"
     ]
    },
    {
     "data": {
      "image/png": "[encoded data removed]",
      "text/plain": [
       "<Figure size 432x288 with 1 Axes>"
      ]
     },
     "metadata": {},
     "output_type": "display_data"
    }
   ],
   "source": [
    "best_distance, best_order= brute_force_tsp(ins.w,ins.dim)\n",
    "def draw_tsp_solution(G,order,colors,pos):\n",
    "    G2=G.copy()\n",
    "    n = len(order)\n",
    "    for i in range(n):\n",
    "        j=(i+1)%n\n",
    "        G2.add_edge(order[i],order[j])\n",
    "    default_axes = plt.axes(frameon=True)\n",
    "    nx.draw_networkx(G2,node_color=colors,node_size = 600,alpha=.5,ax=default_axes,pos=pos)\n",
    "    \n",
    "draw_tsp_solution(G,best_order,colors,pos)"
   ]
  },
  {
   "cell_type": "code",
   "execution_count": 116,
   "metadata": {},
   "outputs": [],
   "source": [
    "qubitOp, offset = tsp.get_operator(ins)"
   ]
  },
  {
   "cell_type": "code",
   "execution_count": 117,
   "metadata": {},
   "outputs": [],
   "source": [
    "#Create an instance of a model and variables\n",
    "from docplex.mp.model import Model\n",
    "from qiskit.optimization.applications.ising import docplex\n",
    "mdl = Model(name = 'tsp')\n",
    "x={(i,p):mdl.binary_var(name='x_{0}_{1}'.format(i,p)) for i in range(n) for p in range(n)}"
   ]
  },
  {
   "cell_type": "code",
   "execution_count": 118,
   "metadata": {},
   "outputs": [],
   "source": [
    "#Object function\n",
    "     \n",
    "tsp_func = mdl.sum(ins.w[i,j]*x[(i,p)]*x[(j,(p+1)%n)] for i in range(n) for j in range(n) for p in range (n))\n",
    "mdl.minimize(tsp_func)"
   ]
  },
  {
   "cell_type": "code",
   "execution_count": 119,
   "metadata": {},
   "outputs": [],
   "source": [
    "# Constraints\n",
    "for i in range(n):\n",
    "   mdl.add_constraint(mdl.sum(x[(i,p)] for p in range(n))==1)\n",
    "    \n",
    "   \n",
    "for p in range(n):\n",
    "    mdl.add_constraint(mdl.sum(x[(i,p)] for i in range(n))==1)\n",
    "    \n",
    "for p in range(n):\n",
    "    if x[(n-1,p)] is 1:\n",
    "        yy = mdl.sum(x[(n-1,l)] for l in range(p+1,n))\n",
    "        mdl.add_constraint(mdl.sum((1-yy))==0)\n",
    "        \n",
    "mdl.add_constraint(mdl.sum(x[(n-1,l)] for l in range(n-1,n)) == 1)\n",
    "  \n",
    "qubitOp_docplex, offset_docplex = docplex.get_operator(mdl)    "
   ]
  },
  {
   "cell_type": "code",
   "execution_count": 120,
   "metadata": {},
   "outputs": [
    {
     "name": "stderr",
     "output_type": "stream",
     "text": [
      "C:\\Users\\Wolfgang\\Anaconda3\\lib\\site-packages\\qiskit\\aqua\\algorithms\\eigen_solvers\\numpy_eigen_solver.py:242: DeprecationWarning: Deprecated class ExactEigensolver, use NumPyEigensolver.\n",
      "  DeprecationWarning)\n"
     ]
    }
   ],
   "source": [
    "#Making the Hamiltonian in its full form and getting the lowest eigenvalue and eigenvector\n",
    "ee = ExactEigensolver(qubitOp,k=1)\n",
    "result = ee.run()"
   ]
  },
  {
   "cell_type": "code",
   "execution_count": 121,
   "metadata": {},
   "outputs": [
    {
     "name": "stdout",
     "output_type": "stream",
     "text": [
      "energy: -1600350.0\n",
      "tsp_objectives: 152.0\n",
      "feasible True\n",
      "solution: [2, 3, 0, 1]\n",
      "solution_objective: 152.0\n"
     ]
    },
    {
     "name": "stderr",
     "output_type": "stream",
     "text": [
      "C:\\Users\\Wolfgang\\Anaconda3\\lib\\site-packages\\qiskit\\aqua\\algorithms\\eigen_solvers\\eigen_solver_result.py:64: DeprecationWarning: energy deprecated, use eigenvalues property.\n",
      "  warnings.warn('energy deprecated, use eigenvalues property.', DeprecationWarning)\n",
      "C:\\Users\\Wolfgang\\Anaconda3\\lib\\site-packages\\qiskit\\aqua\\algorithms\\eigen_solvers\\eigen_solver_result.py:64: DeprecationWarning: energy deprecated, use eigenvalues property.\n",
      "  warnings.warn('energy deprecated, use eigenvalues property.', DeprecationWarning)\n",
      "C:\\Users\\Wolfgang\\Anaconda3\\lib\\site-packages\\qiskit\\aqua\\algorithms\\eigen_solvers\\eigen_solver_result.py:75: DeprecationWarning: eigvecs deprecated, use eigenstates property.\n",
      "  warnings.warn('eigvecs deprecated, use eigenstates property.', DeprecationWarning)\n"
     ]
    },
    {
     "data": {
      "image/png": "[encoded data removed]",
      "text/plain": [
       "<Figure size 432x288 with 1 Axes>"
      ]
     },
     "metadata": {},
     "output_type": "display_data"
    }
   ],
   "source": [
    "print('energy:',result['energy'])\n",
    "print('tsp_objectives:',result['energy']+offset)\n",
    "x= sample_most_likely(result['eigvecs'][0])\n",
    "print('feasible',tsp.tsp_feasible(x))\n",
    "z= tsp.get_tsp_solution(x)\n",
    "print('solution:',z)\n",
    "print('solution_objective:',tsp.tsp_value(z,ins.w))\n",
    "draw_tsp_solution(G,z,colors,pos)"
   ]
  },
  {
   "cell_type": "code",
   "execution_count": null,
   "metadata": {},
   "outputs": [],
   "source": []
  },
  {
   "cell_type": "code",
   "execution_count": null,
   "metadata": {},
   "outputs": [],
   "source": []
  },
  {
   "cell_type": "code",
   "execution_count": null,
   "metadata": {},
   "outputs": [],
   "source": []
  }
 ],
 "metadata": {
  "kernelspec": {
   "display_name": "Python 3",
   "language": "python",
   "name": "python3"
  },
  "language_info": {
   "codemirror_mode": {
    "name": "ipython",
    "version": 3
   },
   "file_extension": ".py",
   "mimetype": "text/x-python",
   "name": "python",
   "nbconvert_exporter": "python",
   "pygments_lexer": "ipython3",
   "version": "3.7.4"
  }
 },
 "nbformat": 4,
 "nbformat_minor": 2
}
